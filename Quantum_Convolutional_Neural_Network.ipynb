{
  "nbformat": 4,
  "nbformat_minor": 0,
  "metadata": {
    "colab": {
      "provenance": [],
      "authorship_tag": "ABX9TyNCv85keukyheaf1Kskxh5P",
      "include_colab_link": true
    },
    "kernelspec": {
      "name": "python3",
      "display_name": "Python 3"
    },
    "language_info": {
      "name": "python"
    }
  },
  "cells": [
    {
      "cell_type": "markdown",
      "metadata": {
        "id": "view-in-github",
        "colab_type": "text"
      },
      "source": [
        "<a href=\"https://colab.research.google.com/github/HarrisDelis/CompPhysics/blob/master/Quantum_Convolutional_Neural_Network.ipynb\" target=\"_parent\"><img src=\"https://colab.research.google.com/assets/colab-badge.svg\" alt=\"Open In Colab\"/></a>"
      ]
    },
    {
      "cell_type": "code",
      "execution_count": 2,
      "metadata": {
        "colab": {
          "base_uri": "https://localhost:8080/"
        },
        "id": "J2fLUhK88HVz",
        "outputId": "61614f7b-9018-4d49-99bd-f600ca7d4141"
      },
      "outputs": [
        {
          "output_type": "stream",
          "name": "stdout",
          "text": [
            "Requirement already satisfied: tensorflow in /usr/local/lib/python3.11/dist-packages (2.18.0)\n",
            "Requirement already satisfied: absl-py>=1.0.0 in /usr/local/lib/python3.11/dist-packages (from tensorflow) (1.4.0)\n",
            "Requirement already satisfied: astunparse>=1.6.0 in /usr/local/lib/python3.11/dist-packages (from tensorflow) (1.6.3)\n",
            "Requirement already satisfied: flatbuffers>=24.3.25 in /usr/local/lib/python3.11/dist-packages (from tensorflow) (25.2.10)\n",
            "Requirement already satisfied: gast!=0.5.0,!=0.5.1,!=0.5.2,>=0.2.1 in /usr/local/lib/python3.11/dist-packages (from tensorflow) (0.6.0)\n",
            "Requirement already satisfied: google-pasta>=0.1.1 in /usr/local/lib/python3.11/dist-packages (from tensorflow) (0.2.0)\n",
            "Requirement already satisfied: libclang>=13.0.0 in /usr/local/lib/python3.11/dist-packages (from tensorflow) (18.1.1)\n",
            "Requirement already satisfied: opt-einsum>=2.3.2 in /usr/local/lib/python3.11/dist-packages (from tensorflow) (3.4.0)\n",
            "Requirement already satisfied: packaging in /usr/local/lib/python3.11/dist-packages (from tensorflow) (24.2)\n",
            "Requirement already satisfied: protobuf!=4.21.0,!=4.21.1,!=4.21.2,!=4.21.3,!=4.21.4,!=4.21.5,<6.0.0dev,>=3.20.3 in /usr/local/lib/python3.11/dist-packages (from tensorflow) (5.29.4)\n",
            "Requirement already satisfied: requests<3,>=2.21.0 in /usr/local/lib/python3.11/dist-packages (from tensorflow) (2.32.3)\n",
            "Requirement already satisfied: setuptools in /usr/local/lib/python3.11/dist-packages (from tensorflow) (75.1.0)\n",
            "Requirement already satisfied: six>=1.12.0 in /usr/local/lib/python3.11/dist-packages (from tensorflow) (1.17.0)\n",
            "Requirement already satisfied: termcolor>=1.1.0 in /usr/local/lib/python3.11/dist-packages (from tensorflow) (2.5.0)\n",
            "Requirement already satisfied: typing-extensions>=3.6.6 in /usr/local/lib/python3.11/dist-packages (from tensorflow) (4.12.2)\n",
            "Requirement already satisfied: wrapt>=1.11.0 in /usr/local/lib/python3.11/dist-packages (from tensorflow) (1.17.2)\n",
            "Requirement already satisfied: grpcio<2.0,>=1.24.3 in /usr/local/lib/python3.11/dist-packages (from tensorflow) (1.71.0)\n",
            "Requirement already satisfied: tensorboard<2.19,>=2.18 in /usr/local/lib/python3.11/dist-packages (from tensorflow) (2.18.0)\n",
            "Requirement already satisfied: keras>=3.5.0 in /usr/local/lib/python3.11/dist-packages (from tensorflow) (3.8.0)\n",
            "Requirement already satisfied: numpy<2.1.0,>=1.26.0 in /usr/local/lib/python3.11/dist-packages (from tensorflow) (2.0.2)\n",
            "Requirement already satisfied: h5py>=3.11.0 in /usr/local/lib/python3.11/dist-packages (from tensorflow) (3.13.0)\n",
            "Requirement already satisfied: ml-dtypes<0.5.0,>=0.4.0 in /usr/local/lib/python3.11/dist-packages (from tensorflow) (0.4.1)\n",
            "Requirement already satisfied: tensorflow-io-gcs-filesystem>=0.23.1 in /usr/local/lib/python3.11/dist-packages (from tensorflow) (0.37.1)\n",
            "Requirement already satisfied: wheel<1.0,>=0.23.0 in /usr/local/lib/python3.11/dist-packages (from astunparse>=1.6.0->tensorflow) (0.45.1)\n",
            "Requirement already satisfied: rich in /usr/local/lib/python3.11/dist-packages (from keras>=3.5.0->tensorflow) (13.9.4)\n",
            "Requirement already satisfied: namex in /usr/local/lib/python3.11/dist-packages (from keras>=3.5.0->tensorflow) (0.0.8)\n",
            "Requirement already satisfied: optree in /usr/local/lib/python3.11/dist-packages (from keras>=3.5.0->tensorflow) (0.14.1)\n",
            "Requirement already satisfied: charset-normalizer<4,>=2 in /usr/local/lib/python3.11/dist-packages (from requests<3,>=2.21.0->tensorflow) (3.4.1)\n",
            "Requirement already satisfied: idna<4,>=2.5 in /usr/local/lib/python3.11/dist-packages (from requests<3,>=2.21.0->tensorflow) (3.10)\n",
            "Requirement already satisfied: urllib3<3,>=1.21.1 in /usr/local/lib/python3.11/dist-packages (from requests<3,>=2.21.0->tensorflow) (2.3.0)\n",
            "Requirement already satisfied: certifi>=2017.4.17 in /usr/local/lib/python3.11/dist-packages (from requests<3,>=2.21.0->tensorflow) (2025.1.31)\n",
            "Requirement already satisfied: markdown>=2.6.8 in /usr/local/lib/python3.11/dist-packages (from tensorboard<2.19,>=2.18->tensorflow) (3.7)\n",
            "Requirement already satisfied: tensorboard-data-server<0.8.0,>=0.7.0 in /usr/local/lib/python3.11/dist-packages (from tensorboard<2.19,>=2.18->tensorflow) (0.7.2)\n",
            "Requirement already satisfied: werkzeug>=1.0.1 in /usr/local/lib/python3.11/dist-packages (from tensorboard<2.19,>=2.18->tensorflow) (3.1.3)\n",
            "Requirement already satisfied: MarkupSafe>=2.1.1 in /usr/local/lib/python3.11/dist-packages (from werkzeug>=1.0.1->tensorboard<2.19,>=2.18->tensorflow) (3.0.2)\n",
            "Requirement already satisfied: markdown-it-py>=2.2.0 in /usr/local/lib/python3.11/dist-packages (from rich->keras>=3.5.0->tensorflow) (3.0.0)\n",
            "Requirement already satisfied: pygments<3.0.0,>=2.13.0 in /usr/local/lib/python3.11/dist-packages (from rich->keras>=3.5.0->tensorflow) (2.18.0)\n",
            "Requirement already satisfied: mdurl~=0.1 in /usr/local/lib/python3.11/dist-packages (from markdown-it-py>=2.2.0->rich->keras>=3.5.0->tensorflow) (0.1.2)\n",
            "Requirement already satisfied: pennylane==0.33.1 in /usr/local/lib/python3.11/dist-packages (0.33.1)\n",
            "Requirement already satisfied: numpy in /usr/local/lib/python3.11/dist-packages (from pennylane==0.33.1) (2.0.2)\n",
            "Requirement already satisfied: scipy in /usr/local/lib/python3.11/dist-packages (from pennylane==0.33.1) (1.14.1)\n",
            "Requirement already satisfied: networkx in /usr/local/lib/python3.11/dist-packages (from pennylane==0.33.1) (3.4.2)\n",
            "Requirement already satisfied: rustworkx in /usr/local/lib/python3.11/dist-packages (from pennylane==0.33.1) (0.16.0)\n",
            "Requirement already satisfied: autograd in /usr/local/lib/python3.11/dist-packages (from pennylane==0.33.1) (1.7.0)\n",
            "Requirement already satisfied: toml in /usr/local/lib/python3.11/dist-packages (from pennylane==0.33.1) (0.10.2)\n",
            "Requirement already satisfied: appdirs in /usr/local/lib/python3.11/dist-packages (from pennylane==0.33.1) (1.4.4)\n",
            "Requirement already satisfied: semantic-version>=2.7 in /usr/local/lib/python3.11/dist-packages (from pennylane==0.33.1) (2.10.0)\n",
            "Requirement already satisfied: autoray>=0.6.1 in /usr/local/lib/python3.11/dist-packages (from pennylane==0.33.1) (0.7.1)\n",
            "Requirement already satisfied: cachetools in /usr/local/lib/python3.11/dist-packages (from pennylane==0.33.1) (5.5.2)\n",
            "Requirement already satisfied: pennylane-lightning>=0.33 in /usr/local/lib/python3.11/dist-packages (from pennylane==0.33.1) (0.34.0)\n",
            "Requirement already satisfied: requests in /usr/local/lib/python3.11/dist-packages (from pennylane==0.33.1) (2.32.3)\n",
            "Requirement already satisfied: typing-extensions in /usr/local/lib/python3.11/dist-packages (from pennylane==0.33.1) (4.12.2)\n",
            "Requirement already satisfied: charset-normalizer<4,>=2 in /usr/local/lib/python3.11/dist-packages (from requests->pennylane==0.33.1) (3.4.1)\n",
            "Requirement already satisfied: idna<4,>=2.5 in /usr/local/lib/python3.11/dist-packages (from requests->pennylane==0.33.1) (3.10)\n",
            "Requirement already satisfied: urllib3<3,>=1.21.1 in /usr/local/lib/python3.11/dist-packages (from requests->pennylane==0.33.1) (2.3.0)\n",
            "Requirement already satisfied: certifi>=2017.4.17 in /usr/local/lib/python3.11/dist-packages (from requests->pennylane==0.33.1) (2025.1.31)\n",
            "Requirement already satisfied: PennyLane_Lightning in /usr/local/lib/python3.11/dist-packages (0.34.0)\n",
            "Requirement already satisfied: pennylane>=0.33 in /usr/local/lib/python3.11/dist-packages (from PennyLane_Lightning) (0.33.1)\n",
            "Requirement already satisfied: numpy in /usr/local/lib/python3.11/dist-packages (from pennylane>=0.33->PennyLane_Lightning) (2.0.2)\n",
            "Requirement already satisfied: scipy in /usr/local/lib/python3.11/dist-packages (from pennylane>=0.33->PennyLane_Lightning) (1.14.1)\n",
            "Requirement already satisfied: networkx in /usr/local/lib/python3.11/dist-packages (from pennylane>=0.33->PennyLane_Lightning) (3.4.2)\n",
            "Requirement already satisfied: rustworkx in /usr/local/lib/python3.11/dist-packages (from pennylane>=0.33->PennyLane_Lightning) (0.16.0)\n",
            "Requirement already satisfied: autograd in /usr/local/lib/python3.11/dist-packages (from pennylane>=0.33->PennyLane_Lightning) (1.7.0)\n",
            "Requirement already satisfied: toml in /usr/local/lib/python3.11/dist-packages (from pennylane>=0.33->PennyLane_Lightning) (0.10.2)\n",
            "Requirement already satisfied: appdirs in /usr/local/lib/python3.11/dist-packages (from pennylane>=0.33->PennyLane_Lightning) (1.4.4)\n",
            "Requirement already satisfied: semantic-version>=2.7 in /usr/local/lib/python3.11/dist-packages (from pennylane>=0.33->PennyLane_Lightning) (2.10.0)\n",
            "Requirement already satisfied: autoray>=0.6.1 in /usr/local/lib/python3.11/dist-packages (from pennylane>=0.33->PennyLane_Lightning) (0.7.1)\n",
            "Requirement already satisfied: cachetools in /usr/local/lib/python3.11/dist-packages (from pennylane>=0.33->PennyLane_Lightning) (5.5.2)\n",
            "Requirement already satisfied: requests in /usr/local/lib/python3.11/dist-packages (from pennylane>=0.33->PennyLane_Lightning) (2.32.3)\n",
            "Requirement already satisfied: typing-extensions in /usr/local/lib/python3.11/dist-packages (from pennylane>=0.33->PennyLane_Lightning) (4.12.2)\n",
            "Requirement already satisfied: charset-normalizer<4,>=2 in /usr/local/lib/python3.11/dist-packages (from requests->pennylane>=0.33->PennyLane_Lightning) (3.4.1)\n",
            "Requirement already satisfied: idna<4,>=2.5 in /usr/local/lib/python3.11/dist-packages (from requests->pennylane>=0.33->PennyLane_Lightning) (3.10)\n",
            "Requirement already satisfied: urllib3<3,>=1.21.1 in /usr/local/lib/python3.11/dist-packages (from requests->pennylane>=0.33->PennyLane_Lightning) (2.3.0)\n",
            "Requirement already satisfied: certifi>=2017.4.17 in /usr/local/lib/python3.11/dist-packages (from requests->pennylane>=0.33->PennyLane_Lightning) (2025.1.31)\n"
          ]
        }
      ],
      "source": [
        "#Install libraries\n",
        "!pip install tensorflow\n",
        "!pip install pennylane==0.33.1\n",
        "!pip install PennyLane_Lightning"
      ]
    },
    {
      "cell_type": "code",
      "source": [
        "import pennylane as qml\n",
        "from pennylane import numpy as np\n",
        "import tensorflow as tf\n",
        "from tensorflow import keras\n",
        "import matplotlib.pyplot as plt"
      ],
      "metadata": {
        "id": "z1Wlg9pf8PN5"
      },
      "execution_count": 3,
      "outputs": []
    },
    {
      "cell_type": "code",
      "source": [
        "n_epochs = 60\n",
        "n_train = 1000\n",
        "n_test = 400\n",
        "\n",
        "Save_Path = \"../_static/demostration_assets/quanvolution/\" #Data saving folder\n",
        "Preprocess = True           #If False, skip quantum processing and load data from Save_Path\n",
        "np.random.seed(0)           #Seed for NumPy random number generator\n",
        "tf.random.set_seed(0)       #Seed for TensorFlow random number generator"
      ],
      "metadata": {
        "id": "XraLUN8F9e3o"
      },
      "execution_count": 4,
      "outputs": []
    },
    {
      "cell_type": "code",
      "source": [
        "#Download MNIST Dataset\n",
        "Data = keras.datasets.mnist\n",
        "(X_train, y_train), (X_test, y_test) = Data.load_data()\n",
        "\n",
        "X_train = X_train[:n_train]\n",
        "y_train = y_train[:n_train]\n",
        "X_test = X_test[:n_train]\n",
        "y_test = y_test[:n_train]\n",
        "\n",
        "X_train = X_train / 255.0\n",
        "X_test = X_test / 255.0\n",
        "\n",
        "#Add extra dimension for convolution channels\n",
        "X_train = np.array(X_train[..., tf.newaxis], requires_grad=False)\n",
        "X_test = np.array(X_test[..., tf.newaxis], requires_grad=False)"
      ],
      "metadata": {
        "colab": {
          "base_uri": "https://localhost:8080/"
        },
        "id": "kDIttvru-b3w",
        "outputId": "d1e7e632-d0b6-4e37-c3a1-88ebd6406863"
      },
      "execution_count": 6,
      "outputs": [
        {
          "output_type": "stream",
          "name": "stdout",
          "text": [
            "Downloading data from https://storage.googleapis.com/tensorflow/tf-keras-datasets/mnist.npz\n",
            "\u001b[1m11490434/11490434\u001b[0m \u001b[32m━━━━━━━━━━━━━━━━━━━━\u001b[0m\u001b[37m\u001b[0m \u001b[1m0s\u001b[0m 0us/step\n"
          ]
        }
      ]
    },
    {
      "cell_type": "code",
      "source": [
        "dev = qml.device(\"lightning.qubit\", wires = 16)\n",
        "\n",
        "#Convolution Block (CB)\n",
        "\n",
        "def conv(params, i, qubits=[0,1,2,3]):\n",
        "\n",
        "  qml.RY(params[i], wires=qubits[0])\n",
        "  qml.RY(params[i+1], wires=qubits[1])\n",
        "  qml.RY(params[i+2], wires=qubits[2])\n",
        "  qml.RY(params[i+3], wires=qubits[3])\n",
        "  qml.CNOT(wires=[qubits[3], qubits[0]])\n",
        "  qml.CNOT(wires=[qubits[2], qubits[3]])\n",
        "  qml.CNOT(wires=[qubits[1], qubits[2]])\n",
        "  qml.CNOT(wires=[qubits[0], qubits[1]])\n",
        "  qml.RY(params[i+4], wires=qubits[0])\n",
        "  qml.RY(params[i+5], wires=qubits[1])\n",
        "  qml.RY(params[i+6], wires=qubits[2])\n",
        "  qml.RY(params[i+7], wires=qubits[3])\n",
        "  qml.CNOT(wires=[qubits[3], qubits[2]])\n",
        "  qml.CNOT(wires=[qubits[0], qubits[3]])\n",
        "  qml.CNOT(wires=[qubits[1], qubits[0]])\n",
        "  qml.CNOT(wires=[qubits[2], qubits[1]])"
      ],
      "metadata": {
        "id": "Pcjjksfz_iG3"
      },
      "execution_count": 7,
      "outputs": []
    },
    {
      "cell_type": "code",
      "source": [
        "# Pooling Block (PB)\n",
        "\n",
        "def pool(params, i, qubits=[0,1,2,3]):\n",
        "\n",
        "  qml.RY(params[i], wires=qubits[0])\n",
        "  qml.RZ(params[i+1], wires=qubits[1])\n",
        "  qml.RY(params[i+2], wires=qubits[2])\n",
        "  qml.RZ(params[i+3], wires=qubits[3])\n",
        "  qml.CNOT(wires=[qubits[3], qubits[2]])\n",
        "  qml.CNOT(wires=[qubits[2], qubits[1]])\n",
        "  qml.CNOT(wires=[qubits[1], qubits[0]])\n",
        "  qml.RZ(params[i+4], wires=qubits[0])\n",
        "  qml.RY(params[i+5], wires=qubits[1])\n",
        "  qml.RZ(params[i+6], wires=qubits[2])\n",
        "  qml.PauliZ(qubits[3])"
      ],
      "metadata": {
        "id": "6SF-BqkpAiQV"
      },
      "execution_count": 9,
      "outputs": []
    },
    {
      "cell_type": "code",
      "source": [
        "# Parameterized Quantum Circuit (PQC)\n",
        "\n",
        "def parameterized_circuit(params):\n",
        "\n",
        "  conv(params, 0, qubits=[0,1,2,3])\n",
        "  conv(params, 0, qubits=[4,5,6,7])\n",
        "  conv(params, 0, qubits=[8,9,10,11])\n",
        "  conv(params, 0, qubits=[12,13,14,15])\n",
        "  conv(params, 0, qubits=[2,3,4,5])\n",
        "  conv(params, 0, qubits=[6,7,8,9])\n",
        "  conv(params, 0, qubits=[10,11,12,13])\n",
        "  conv(params, 0, qubits=[4,5,6,7])\n",
        "  conv(params, 0, qubits=[8,9,10,11])\n",
        "\n",
        "  pool(params, 8, qubits=[0,1,2,3])\n",
        "  pool(params, 8, qubits=[4,5,6,7])\n",
        "  pool(params, 8, qubits=[8,9,10,11])\n",
        "  pool(params, 8, qubits=[12,13,14,15])\n",
        "\n",
        "  conv(params, 15, qubits=[0,1,2,4])\n",
        "  conv(params, 15, qubits=[5,6,8,9])\n",
        "  conv(params, 15, qubits=[10,12,13,14])\n",
        "  conv(params, 15, qubits=[2,4,5,6])\n",
        "  conv(params, 15, qubits=[8,9,10,12])\n",
        "\n",
        "  pool(params, 23, qubits=[0,1,2,4])\n",
        "  pool(params, 23, qubits=[5,6,8,9])\n",
        "  pool(params, 23, qubits=[10,12,13,14])\n",
        "\n",
        "  conv(params, 30, qubits=[1,2,5,6])\n",
        "  conv(params, 30, qubits=[8,10,12,13])\n",
        "\n",
        "  pool(params, 38, qubits=[1,2,5,6])\n",
        "  pool(params, 38, qubits=[8,10,12,13])"
      ],
      "metadata": {
        "id": "fmjozM8zAgIP"
      },
      "execution_count": 10,
      "outputs": []
    },
    {
      "cell_type": "code",
      "source": [
        "# Initialize parameters (0,1)\n",
        "num_params = 45\n",
        "params = np.random.rand(num_params)\n",
        "\n",
        "#Angle Embedding and PQC\n",
        "\n",
        "@qml.qnode(dev)\n",
        "def q(input):\n",
        "  for i in range(16):\n",
        "    qml.RY(input[i], wires=i)\n",
        "  parameterized_circuit(params)\n",
        "\n",
        "  return [qml.expval(qml.PauliZ(j)) for j in [0,1,2,5,8,10,12]]"
      ],
      "metadata": {
        "id": "Ch-ReOm_EM1e"
      },
      "execution_count": 13,
      "outputs": []
    },
    {
      "cell_type": "code",
      "source": [
        "n = np.random.rand(16)\n",
        "print(n)\n",
        "\n",
        "print(params)\n",
        "\n",
        "k = q(n)\n",
        "print(k)\n",
        "\n",
        "f = qml.draw(q)(n)\n",
        "print(f)"
      ],
      "metadata": {
        "colab": {
          "base_uri": "https://localhost:8080/"
        },
        "id": "Kb_XqvhwGtUu",
        "outputId": "f5692e85-be6c-4acc-f5e8-73ce64914171"
      },
      "execution_count": 14,
      "outputs": [
        {
          "output_type": "stream",
          "name": "stdout",
          "text": [
            "[0.59204193 0.57225191 0.22308163 0.95274901 0.44712538 0.84640867\n",
            " 0.69947928 0.29743695 0.81379782 0.39650574 0.8811032  0.58127287\n",
            " 0.88173536 0.69253159 0.72525428 0.50132438]\n",
            "[0.11037514 0.65632959 0.13818295 0.19658236 0.36872517 0.82099323\n",
            " 0.09710128 0.83794491 0.09609841 0.97645947 0.4686512  0.97676109\n",
            " 0.60484552 0.73926358 0.03918779 0.28280696 0.12019656 0.2961402\n",
            " 0.11872772 0.31798318 0.41426299 0.0641475  0.69247212 0.56660145\n",
            " 0.26538949 0.52324805 0.09394051 0.5759465  0.9292962  0.31856895\n",
            " 0.66741038 0.13179786 0.7163272  0.28940609 0.18319136 0.58651293\n",
            " 0.02010755 0.82894003 0.00469548 0.67781654 0.27000797 0.73519402\n",
            " 0.96218855 0.24875314 0.57615733]\n",
            "[array(0.01060201), array(0.01004935), array(-0.00957012), array(-0.00063868), array(0.02439781), array(-0.00175501), array(0.00971657)]\n",
            " 0: ──RY(0.59)──RY(0.11)─╭X──────────────╭●─────────RY(0.37)─╭●─╭X─────────RY(0.10)────────────────\n",
            " 1: ──RY(0.57)──RY(0.66)─│─────╭●────────╰X─────────RY(0.82)─│──╰●────────╭X─────────RZ(0.98)──────\n",
            " 2: ──RY(0.22)──RY(0.14)─│──╭●─╰X─────────RY(0.10)─╭X────────│────────────╰●─────────RY(0.11)─╭X───\n",
            " 3: ──RY(0.95)──RY(0.20)─╰●─╰X──RY(0.84)───────────╰●────────╰X──RY(0.66)─────────────────────│────\n",
            " 4: ──RY(0.45)──RY(0.11)─╭X──────────────╭●─────────RY(0.37)─╭●─╭X─────────RY(0.14)───────────│──╭●\n",
            " 5: ──RY(0.85)──RY(0.66)─│─────╭●────────╰X─────────RY(0.82)─│──╰●────────╭X─────────RY(0.20)─╰●─╰X\n",
            " 6: ──RY(0.70)──RY(0.14)─│──╭●─╰X─────────RY(0.10)─╭X────────│────────────╰●─────────RY(0.11)─╭X───\n",
            " 7: ──RY(0.30)──RY(0.20)─╰●─╰X──RY(0.84)───────────╰●────────╰X──RY(0.66)─────────────────────│────\n",
            " 8: ──RY(0.81)──RY(0.11)─╭X──────────────╭●─────────RY(0.37)─╭●─╭X─────────RY(0.14)───────────│──╭●\n",
            " 9: ──RY(0.40)──RY(0.66)─│─────╭●────────╰X─────────RY(0.82)─│──╰●────────╭X─────────RY(0.20)─╰●─╰X\n",
            "10: ──RY(0.88)──RY(0.14)─│──╭●─╰X─────────RY(0.10)─╭X────────│────────────╰●─────────RY(0.11)─╭X───\n",
            "11: ──RY(0.58)──RY(0.20)─╰●─╰X──RY(0.84)───────────╰●────────╰X──RY(0.66)─────────────────────│────\n",
            "12: ──RY(0.88)──RY(0.11)─╭X──────────────╭●─────────RY(0.37)─╭●─╭X─────────RY(0.14)───────────│──╭●\n",
            "13: ──RY(0.69)──RY(0.66)─│─────╭●────────╰X─────────RY(0.82)─│──╰●────────╭X─────────RY(0.20)─╰●─╰X\n",
            "14: ──RY(0.73)──RY(0.14)─│──╭●─╰X─────────RY(0.10)─╭X────────│────────────╰●─────────RY(0.47)─╭X───\n",
            "15: ──RY(0.50)──RY(0.20)─╰●─╰X──RY(0.84)───────────╰●────────╰X──RZ(0.98)─────────────────────╰●──Z\n",
            "\n",
            "─────────────────────────────────────────────────────────────────────────────────────╭X───────\n",
            "───────────────────────────────────────────────────────────────────────────╭X────────╰●───────\n",
            "────────────╭●─────────RY(0.37)─╭●─╭X─────────RY(0.47)───────────╭X────────╰●─────────RZ(0.04)\n",
            "──╭●────────╰X─────────RY(0.82)─│──╰●────────╭X─────────RZ(0.98)─╰●─────────Z─────────────────\n",
            "──╰X─────────RY(0.10)─╭X────────│────────────╰●─────────RY(0.11)─╭X───────────────────────────\n",
            "───RY(0.84)───────────╰●────────╰X──RY(0.66)─────────────────────│───────────────────╭●───────\n",
            "────────────╭●─────────RY(0.37)─╭●─╭X─────────RY(0.14)───────────│─────────╭●────────╰X───────\n",
            "──╭●────────╰X─────────RY(0.82)─│──╰●────────╭X─────────RY(0.20)─╰●────────╰X─────────RY(0.84)\n",
            "──╰X─────────RY(0.10)─╭X────────│────────────╰●─────────RY(0.11)─╭X───────────────────────────\n",
            "───RY(0.84)───────────╰●────────╰X──RY(0.66)─────────────────────│───────────────────╭●───────\n",
            "────────────╭●─────────RY(0.37)─╭●─╭X─────────RY(0.14)───────────│─────────╭●────────╰X───────\n",
            "──╭●────────╰X─────────RY(0.82)─│──╰●────────╭X─────────RY(0.20)─╰●────────╰X─────────RY(0.84)\n",
            "──╰X─────────RY(0.10)─╭X────────│────────────╰●─────────RY(0.10)─╭X─────────RZ(0.60)──RY(0.12)\n",
            "───RY(0.84)───────────╰●────────╰X──RZ(0.98)─╭X──────────────────╰●─────────RY(0.74)──RY(0.30)\n",
            "─────────────────────────────────────────────╰●─────────RZ(0.04)──RY(0.12)────────────────────\n",
            "──────────────────────────────────────────────────────────────────────────────────────────────\n",
            "\n",
            "───RZ(0.60)──RY(0.28)──────────────────────────────────────────────────────────────────────╭X\n",
            "───RY(0.74)──RY(0.12)──────────────────────────────────────────────────────────────────────│─\n",
            "───RY(0.30)────────────────────────────────────────────────────────────────────────────────│─\n",
            "───────────────────────────────────────────────────────────────────────────────────────────│─\n",
            "──╭●─────────RY(0.37)─╭●─╭X─────────RY(0.10)─────────────────╭X─────────RZ(0.60)──RY(0.12)─╰●\n",
            "──╰X─────────RY(0.82)─│──╰●────────╭X─────────RZ(0.98)────╭X─╰●─────────RY(0.74)──RY(0.28)─╭X\n",
            "───RY(0.10)─╭X────────│────────────╰●─────────RY(0.47)─╭X─╰●──RZ(0.04)──RY(0.12)───────────│─\n",
            "────────────╰●────────╰X──RZ(0.98)─────────────────────╰●──Z───────────────────────────────│─\n",
            "──╭●─────────RY(0.37)─╭●─╭X─────────RY(0.10)─────────────────╭X─────────RZ(0.60)──RY(0.30)─│─\n",
            "──╰X─────────RY(0.82)─│──╰●────────╭X─────────RZ(0.98)────╭X─╰●─────────RY(0.74)──RY(0.12)─╰●\n",
            "───RY(0.10)─╭X────────│────────────╰●─────────RY(0.47)─╭X─╰●──RZ(0.04)──RY(0.28)─╭X──────────\n",
            "────────────╰●────────╰X──RZ(0.98)─────────────────────╰●──Z─────────────────────│───────────\n",
            "─────────────────────────────────────────────────────────────────────────────────│───────────\n",
            "─────────────────────────────────────────────────────────────────────────────────│─────────╭●\n",
            "─────────────────────────────────────────────────────────────────────────────────╰●────────╰X\n",
            "─────────────────────────────────────────────────────────────────────────────────────────────\n",
            "\n",
            "──────────────────────╭●─────────RY(0.32)─╭●────────╭X─────────RY(0.57)──────────────────────────\n",
            "────────────╭●────────╰X─────────RY(0.41)─│─────────╰●────────╭X─────────RZ(0.27)────────────────\n",
            "──╭●────────╰X─────────RY(0.06)─╭X────────│───────────────────╰●─────────RY(0.28)─╭X─────────────\n",
            "──│─────────────────────────────│─────────│───────────────────────────────────────│──────────────\n",
            "──╰X─────────RY(0.69)───────────╰●────────╰X─────────RY(0.12)─────────────────────│─────╭●───────\n",
            "──────────────────────╭●─────────RY(0.32)─╭●────────╭X─────────RY(0.30)───────────│──╭●─╰X───────\n",
            "────────────╭●────────╰X─────────RY(0.41)─│─────────╰●────────╭X─────────RY(0.12)─╰●─╰X──RY(0.69)\n",
            "────────────│─────────────────────────────│───────────────────│──────────────────────────────────\n",
            "──╭●────────╰X─────────RY(0.06)─╭X────────│───────────────────╰●─────────RY(0.28)─╭X─────────────\n",
            "──╰X─────────RY(0.69)───────────╰●────────╰X─────────RY(0.12)─────────────────────│─────╭●───────\n",
            "────────────╭●─────────RY(0.32)─╭●────────╭X─────────RY(0.30)─────────────────────│──╭●─╰X───────\n",
            "────────────│───────────────────│─────────│───────────────────────────────────────│──│───────────\n",
            "──╭●────────╰X─────────RY(0.41)─│─────────╰●────────╭X─────────RY(0.12)───────────╰●─╰X──RY(0.69)\n",
            "──╰X─────────RY(0.06)─╭X────────│───────────────────╰●─────────RY(0.52)─╭X───────────────────────\n",
            "───RY(0.69)───────────╰●────────╰X─────────RZ(0.09)─────────────────────╰●─────────Z─────────────\n",
            "─────────────────────────────────────────────────────────────────────────────────────────────────\n",
            "\n",
            "───────────────────────────────────────────────────────────────────────────╭X─────────RZ(0.58)\n",
            "─────────────────────────────────────────────────────────────────╭X────────╰●─────────RY(0.93)\n",
            "──╭●─────────RY(0.32)─╭●─╭X─────────RY(0.52)───────────╭X────────╰●─────────RZ(0.32)──RY(0.13)\n",
            "──│───────────────────│──│─────────────────────────────│──────────────────────────────────────\n",
            "──╰X─────────RY(0.41)─│──╰●────────╭X─────────RZ(0.09)─╰●─────────Z───────────────────────────\n",
            "───RY(0.06)─╭X────────│────────────╰●─────────RY(0.57)─────────────────────╭X─────────RZ(0.58)\n",
            "────────────╰●────────╰X──RZ(0.27)───────────────────────────────╭X────────╰●─────────RY(0.93)\n",
            "─────────────────────────────────────────────────────────────────│────────────────────────────\n",
            "──╭●─────────RY(0.32)─╭●─╭X─────────RY(0.52)───────────╭X────────╰●─────────RZ(0.32)──RY(0.67)\n",
            "──╰X─────────RY(0.41)─│──╰●────────╭X─────────RZ(0.09)─╰●─────────Z───────────────────────────\n",
            "───RY(0.06)─╭X────────│────────────╰●─────────RY(0.57)─╭X─────────RZ(0.58)──RY(0.13)──────────\n",
            "────────────│─────────│────────────────────────────────│──────────────────────────────────────\n",
            "────────────╰●────────╰X──RZ(0.27)─╭X──────────────────╰●─────────RY(0.93)──RY(0.72)──────────\n",
            "───────────────────────────────────╰●─────────RZ(0.32)──RY(0.29)──────────────────────────────\n",
            "──────────────────────────────────────────────────────────────────────────────────────────────\n",
            "──────────────────────────────────────────────────────────────────────────────────────────────\n",
            "\n",
            "─────────────────────────────────────────────────────────────────────────────────────────────────\n",
            "───RY(0.67)─╭X─────────────────────╭●─────────RY(0.18)─╭●────────╭X─────────RY(0.00)─────────────\n",
            "────────────│────────────╭●────────╰X─────────RY(0.59)─│─────────╰●────────╭X─────────RZ(0.68)───\n",
            "────────────│────────────│─────────────────────────────│───────────────────│─────────────────────\n",
            "────────────│────────────│─────────────────────────────│───────────────────│─────────────────────\n",
            "───RY(0.72)─│──╭●────────╰X─────────RY(0.02)─╭X────────│───────────────────╰●─────────RY(0.27)─╭X\n",
            "───RY(0.29)─╰●─╰X─────────RY(0.83)───────────╰●────────╰X─────────RZ(0.74)─────────────────────╰●\n",
            "─────────────────────────────────────────────────────────────────────────────────────────────────\n",
            "──╭X─────────────────────╭●─────────RY(0.18)─╭●────────╭X─────────RY(0.00)───────────────────────\n",
            "──│──────────────────────│───────────────────│─────────│─────────────────────────────────────────\n",
            "──│────────────╭●────────╰X─────────RY(0.59)─│─────────╰●────────╭X─────────RZ(0.68)───────────╭X\n",
            "──│────────────│─────────────────────────────│───────────────────│─────────────────────────────│─\n",
            "──│─────────╭●─╰X─────────RY(0.02)─╭X────────│───────────────────╰●─────────RY(0.27)─╭X────────╰●\n",
            "──╰●────────╰X──RY(0.83)───────────╰●────────╰X─────────RZ(0.74)─────────────────────╰●─────────Z\n",
            "─────────────────────────────────────────────────────────────────────────────────────────────────\n",
            "─────────────────────────────────────────────────────────────────────────────────────────────────\n",
            "\n",
            "────────────────────────────────┤  <Z>\n",
            "────────────╭X─────────RZ(0.96)─┤  <Z>\n",
            "──╭X────────╰●─────────RY(0.25)─┤  <Z>\n",
            "──│─────────────────────────────┤     \n",
            "──│─────────────────────────────┤     \n",
            "──╰●─────────RZ(0.58)───────────┤  <Z>\n",
            "───Z────────────────────────────┤     \n",
            "────────────────────────────────┤     \n",
            "──╭X─────────RZ(0.96)───────────┤  <Z>\n",
            "──│─────────────────────────────┤     \n",
            "──╰●─────────RY(0.25)───────────┤  <Z>\n",
            "────────────────────────────────┤     \n",
            "───RZ(0.58)─────────────────────┤  <Z>\n",
            "────────────────────────────────┤     \n",
            "────────────────────────────────┤     \n",
            "────────────────────────────────┤     \n"
          ]
        }
      ]
    },
    {
      "cell_type": "code",
      "source": [
        "def quanv(image):\n",
        "\n",
        "  out = np.zeros((7, 7, 7))\n",
        "\n",
        "\n",
        "  for j in range(0, 28, 4):\n",
        "    for k in range(0, 28, 4):\n",
        "\n",
        "      q_results = q(\n",
        "          [\n",
        "              image[j, k ,0],\n",
        "              image[j, k+1, 0],\n",
        "              image[j, k+2, 0],\n",
        "              image[j, k+3, 0],\n",
        "              image[j+1, k, 0],\n",
        "              image[j+1, k+1, 0],\n",
        "              image[j+1, k+2, 0],\n",
        "              image[j+1, k+3, 0],\n",
        "              image[j+2, k, 0],\n",
        "              image[j+2, k+1, 0],\n",
        "              image[j+2, k+2, 0],\n",
        "              image[j+2, k+3, 0],\n",
        "              image[j+3, k, 0],\n",
        "              image[j+3, k+1, 0],\n",
        "              image[j+3, k+2, 0],\n",
        "              image[j+3, k+3, 0]\n",
        "          ]\n",
        "      )\n",
        "\n",
        "      for c in range(7):\n",
        "        out[j // 4, k//4, c] = q_results[c]\n",
        "    return out"
      ],
      "metadata": {
        "id": "BFEC6tmwG7hS"
      },
      "execution_count": 16,
      "outputs": []
    },
    {
      "cell_type": "code",
      "source": [
        "if Preprocess == True:\n",
        "  q_X_train = []\n",
        "  print(\"Quantum pre-processing of train images:\")\n",
        "  for idx, img in enumerate(X_train):\n",
        "    if(idx % 10 == 0):\n",
        "      print(idx)\n",
        "    q_X_train.append(quanv(img))\n",
        "  q_X_train = np.asarray(q_X_train)\n",
        "\n",
        "  q_X_test = []\n",
        "  print(\"\\nQuantum pre-processing of test images:\")\n",
        "  for idx, img in enumerate(X_test):\n",
        "    if (idx % 10 == 0):\n",
        "      print(idx)\n",
        "    q_X_test.append(quanv(img))\n",
        "  q_X_test = np.asarray(q_X_test)\n",
        "\n",
        "  np.save(Save_Path + \"q_X_train_4x4.npy\", q_X_train)\n",
        "  np.save(Save_Path + \"q_X_test_4x4.npy\", q_X_test)\n",
        "\n",
        "q_X_train = np.load(Save_Path + \"q_X_train_4x4.npy\")\n",
        "q_X_test = np.load(Save_Path + \"q_X_test_4x4.npy\")\n"
      ],
      "metadata": {
        "id": "nWhXqphOIwwj"
      },
      "execution_count": null,
      "outputs": []
    },
    {
      "cell_type": "code",
      "source": [
        "n_samples = 4\n",
        "n_channels = 7\n",
        "fig, axes = plt.subplots(1 + n_channels, n_samples, figsize=(10,10))\n",
        "for k in range(n_samples):\n",
        "  axes[0, 0].set_ylabel(\"Input\")\n",
        "  if k != 0:\n",
        "    axes[0,k].yaxis.set_visible(False)\n",
        "  axes[0,k].imshow(X_train[k, :, :, 0], cmap=\"gray\")\n",
        "\n",
        "  #Plot all output channels\n",
        "  for c in range(n_channels):\n",
        "    axes[c+1, 0].set_ylabel(\"Output [ch. {}]\".format(c))\n",
        "    if k != 0:\n",
        "      axes[c, k].yaxis.set_visible(False)\n",
        "    axes[c+1, k].imshow(q_X_train[k, :, : c], cmap=\"gray\")\n",
        "\n",
        "plt.tight_layout()\n",
        "plt.show()"
      ],
      "metadata": {
        "id": "I2ZtABfqLGr5"
      },
      "execution_count": null,
      "outputs": []
    },
    {
      "cell_type": "code",
      "source": [
        "def MyModel():\n",
        "  \"\"\"Initializes and returns a custom Keras model which is ready to be trained\"\"\"\n",
        "  model = keras.models.Sequential([\n",
        "      keras.layers.Flatten(),\n",
        "      keras.layers.Dense(10, activation=\"softmax\")\n",
        "  ])\n",
        "\n",
        "  model.compile(\n",
        "      optimizer=\"adam\",\n",
        "      loss=\"sparse_categorical_crossentropy\",\n",
        "      metrics=[\"accuracy\"]\n",
        "  )\n",
        "  return model"
      ],
      "metadata": {
        "id": "gSqKWndMMwi8"
      },
      "execution_count": 19,
      "outputs": []
    },
    {
      "cell_type": "code",
      "source": [
        "q_model = MyModel()\n",
        "\n",
        "q_history = q_model.fit(\n",
        "    q_X_train,\n",
        "    y_train,\n",
        "    validation_data=(q_X_test, y_test),\n",
        "    batch_size=1,\n",
        "    epochs=n_epochs,\n",
        "    verbose=2\n",
        ")"
      ],
      "metadata": {
        "id": "hBv4ArndNi6h"
      },
      "execution_count": null,
      "outputs": []
    },
    {
      "cell_type": "code",
      "source": [
        "c_model = MyModel()\n",
        "\n",
        "c_history = c_model.fit(\n",
        "    X_train,\n",
        "    y_train,\n",
        "    validation_data=(X_test, y_test),\n",
        "    batch_size=4,\n",
        "    epochs=n_epochs,\n",
        "    verbose=2\n",
        ")"
      ],
      "metadata": {
        "id": "snMDw4RCN5OR"
      },
      "execution_count": null,
      "outputs": []
    },
    {
      "cell_type": "code",
      "source": [
        "plt.style.use(\"seaborn\")\n",
        "fig, (ax1, ax2) = plt.subplots(2, 1, figsize=(6,9))\n",
        "\n",
        "ax1.plot(q_history.history[\"val_accuracy\"], \"-ob\", label=\"With quantum layer\")\n",
        "ax1.plot(c_history.history[\"val_accuracy\"], \"-ob\", label=\"Without quantum layer\")\n",
        "ax1.set_ylabel(\"Accuracy\")\n",
        "ax1.set_ylim([0,1])\n",
        "ax1.set_xlabel(\"Epoch\")\n",
        "ax1.legend()\n",
        "\n",
        "ax2.plot(q_history.history[\"val_loss\"], \"-ob\", label=\"With quantum layer\")\n",
        "ax2.plot(c_history.history[\"val_loss\"], \"-ob\", label=\"Without quantum layer\")\n",
        "ax2.set_ylabel(\"Loss\")\n",
        "ax2.set_ylim(top=2.5)\n",
        "ax2.set_xlabel(\"Epoch\")\n",
        "ax2.legend()\n",
        "plt.tight_layout()\n",
        "plt.show()"
      ],
      "metadata": {
        "id": "dE4ZHn0hOaPg"
      },
      "execution_count": null,
      "outputs": []
    },
    {
      "cell_type": "code",
      "source": [],
      "metadata": {
        "id": "OOexAME3QDKW"
      },
      "execution_count": null,
      "outputs": []
    }
  ]
}